{
 "cells": [
  {
   "cell_type": "code",
   "execution_count": 1,
   "metadata": {},
   "outputs": [],
   "source": [
    "import gym\n",
    "import torch\n",
    "import torch.nn as nn\n",
    "import torch.nn.functional as F\n",
    "import math\n",
    "import numpy as np"
   ]
  },
  {
   "cell_type": "code",
   "execution_count": 2,
   "metadata": {},
   "outputs": [],
   "source": [
    "env = gym.make(\"SpaceInvaders-v0\")"
   ]
  },
  {
   "cell_type": "code",
   "execution_count": 3,
   "metadata": {},
   "outputs": [
    {
     "data": {
      "text/plain": [
       "3"
      ]
     },
     "execution_count": 3,
     "metadata": {},
     "output_type": "execute_result"
    }
   ],
   "source": [
    "len(env.observation_space.shape)"
   ]
  },
  {
   "cell_type": "code",
   "execution_count": 4,
   "metadata": {},
   "outputs": [
    {
     "data": {
      "text/plain": [
       "6"
      ]
     },
     "execution_count": 4,
     "metadata": {},
     "output_type": "execute_result"
    }
   ],
   "source": [
    "env.action_space.n"
   ]
  },
  {
   "cell_type": "code",
   "execution_count": 5,
   "metadata": {},
   "outputs": [],
   "source": [
    "class ResBlock(nn.Module):\n",
    "    def __init__(self, in_channels: int, out_channels: int):\n",
    "        super(ResBlock, self).__init__()\n",
    "        self.conv1 = nn.Conv2d(in_channels, out_channels, kernel_size=1)\n",
    "        self.bn1 = nn.BatchNorm2d(out_channels)\n",
    "        self.conv2 = nn.Conv2d(out_channels, out_channels, kernel_size=1)\n",
    "        self.bn2 = nn.BatchNorm2d(out_channels)\n",
    "\n",
    "    def forward(self, x):\n",
    "        residual = x\n",
    "        x = F.relu(self.bn1(self.conv1(x)))\n",
    "        x = self.bn2(self.conv2(x))\n",
    "        return F.relu(residual + x)"
   ]
  },
  {
   "cell_type": "code",
   "execution_count": 6,
   "metadata": {},
   "outputs": [],
   "source": [
    "class _dynamic_s(nn.Module):\n",
    "    def __init__(self):\n",
    "        super(_dynamic_s, self).__init__()\n",
    "        self.conv1 = nn.Conv2d(1, 1, kernel_size=3, padding=1)\n",
    "        self.relu1 = nn.LeakyReLU()\n",
    "        self.conv2 = nn.Conv2d(1, 1, kernel_size=[4, 5], padding=[1, 2])\n",
    "        self.relu2 = nn.LeakyReLU()\n",
    "        self.res1 = ResBlock(1, 1)\n",
    "\n",
    "    def forward(self, x):\n",
    "        x = self.conv1(x)\n",
    "        x = F.leaky_relu(x)\n",
    "        x = self.res1(x)\n",
    "        x = F.leaky_relu(x)\n",
    "        x = self.conv2(x)\n",
    "        return x\n",
    "ds = _dynamic_s()"
   ]
  },
  {
   "cell_type": "code",
   "execution_count": 7,
   "metadata": {},
   "outputs": [],
   "source": [
    "class ResBlock(nn.Module):\n",
    "    def __init__(self, in_channels: int, out_channels: int):\n",
    "        super(ResBlock, self).__init__()\n",
    "        self.conv1 = nn.Conv2d(in_channels, out_channels, kernel_size=3, padding=1)\n",
    "        self.bn1 = nn.BatchNorm2d(out_channels)\n",
    "\n",
    "    def forward(self, x):\n",
    "        residual = x\n",
    "        x = self.bn1(self.conv1(x))\n",
    "        return residual + x"
   ]
  },
  {
   "cell_type": "code",
   "execution_count": 8,
   "metadata": {},
   "outputs": [
    {
     "data": {
      "text/plain": [
       "7885"
      ]
     },
     "execution_count": 8,
     "metadata": {},
     "output_type": "execute_result"
    }
   ],
   "source": [
    "class _dynamic_r(nn.Module):\n",
    "    def __init__(self, x):\n",
    "        super(_dynamic_r, self).__init__()\n",
    "        self.conv1 = nn.Conv2d(1, 1, kernel_size=3, stride=2)\n",
    "        self.flatten = nn.Flatten()\n",
    "        self.linear1 = nn.Linear(243, 24) # there has got to be a way to fix this other than defining a helper function fuck me\n",
    "        self.linear2 = nn.Linear(24, 1)\n",
    "\n",
    "    def forward(self, x):\n",
    "        x = F.leaky_relu(self.conv1(x))\n",
    "        x = self.flatten(x)\n",
    "        x = self.linear1(x)\n",
    "        x = self.linear2(x)\n",
    "        return x\n",
    "\n",
    "    def _get_output_shape(self, x_dim):\n",
    "        with torch.no_grad():\n",
    "            return self.conv1(torch.rand(*(x_dim))).data.shape # wtf even is this function holy shit\n",
    "\n",
    "dr = _dynamic_r((1, 1, 192, 168))\n",
    "np.prod(list(dr._get_output_shape((1, 1, 192, 168))))"
   ]
  },
  {
   "cell_type": "code",
   "execution_count": 9,
   "metadata": {},
   "outputs": [],
   "source": [
    "def get_output_shape(model, tensor_dim):\n",
    "    with torch.no_grad():\n",
    "        return model(torch.rand(*(tensor_dim))).data.shape"
   ]
  },
  {
   "cell_type": "code",
   "execution_count": 12,
   "metadata": {},
   "outputs": [],
   "source": [
    "obs = torch.tensor(env.reset(), dtype=torch.float32).unsqueeze(0)\n",
    "obs.transpose_(1, 3).transpose_(2, 3)\n",
    "\n",
    "_representation = nn.Sequential(\n",
    "    nn.Conv2d(3, 1, kernel_size=6),\n",
    "    nn.LeakyReLU(),\n",
    "    nn.MaxPool2d(5),\n",
    "    nn.Conv2d(1, 1, kernel_size=4)\n",
    ")\n",
    "\n",
    "obs = _representation(obs)\n",
    "\n",
    "# This bottom code is just cursed, idk how to do this better since obs has a dimension of 4\n",
    "# action_one_hot = torch.zeros([1, 1, 1, obs.shape[-1]], dtype=torch.float32)\n",
    "# index = torch.tensor([[[[2]]]])\n",
    "# action_one_hot.scatter_(3, index, 1.0)\n",
    "# x = torch.cat((obs, action_one_hot), dim=2)\n",
    "\n",
    "# x = ds(x)\n",
    "# r = dr(x)\n",
    "# r.item()"
   ]
  },
  {
   "cell_type": "code",
   "execution_count": 14,
   "metadata": {},
   "outputs": [],
   "source": [
    "_prediction_p = nn.Sequential(\n",
    "    nn.Conv2d(1, 1, kernel_size=3, stride=2),\n",
    "    nn.LeakyReLU(),\n",
    "    nn.Flatten(),\n",
    "    nn.Linear(234, 24), # same goes for here\n",
    "    nn.Linear(24, env.action_space.n),\n",
    ")\n",
    "\n",
    "_prediction_v = nn.Sequential(\n",
    "    nn.Conv2d(1, 1, kernel_size=3, stride=2),\n",
    "    nn.Flatten(),\n",
    "    nn.Linear(234, 24), # same goes for here\n",
    "    nn.Linear(24, 1),\n",
    ")\n",
    "\n",
    "p = _prediction_p(x)\n",
    "v = _prediction_v(x)\n",
    "\n",
    "# policy = {a: math.exp(p[a].item()) for a in range(env.action_space.n)}\n",
    "# policy\n",
    "# p.squeeze_(0).detach().numpy()"
   ]
  },
  {
   "cell_type": "code",
   "execution_count": 43,
   "metadata": {},
   "outputs": [
    {
     "data": {
      "text/plain": [
       "[1, 1, 38, 28]"
      ]
     },
     "execution_count": 43,
     "metadata": {},
     "output_type": "execute_result"
    }
   ],
   "source": [
    "list(get_output_shape(_representation, (1, 3, 210, 160)))"
   ]
  }
 ],
 "metadata": {
  "kernelspec": {
   "display_name": "Python 3",
   "language": "python",
   "name": "python3"
  },
  "language_info": {
   "codemirror_mode": {
    "name": "ipython",
    "version": 3
   },
   "file_extension": ".py",
   "mimetype": "text/x-python",
   "name": "python",
   "nbconvert_exporter": "python",
   "pygments_lexer": "ipython3",
   "version": "3.8.5"
  }
 },
 "nbformat": 4,
 "nbformat_minor": 4
}
